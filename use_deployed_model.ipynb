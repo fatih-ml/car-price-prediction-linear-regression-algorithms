{
 "cells": [
  {
   "cell_type": "code",
   "execution_count": 22,
   "id": "34eb12e4-6770-4ac9-a417-3f41ef0f0cf0",
   "metadata": {
    "tags": []
   },
   "outputs": [],
   "source": [
    "import pandas as pd\n",
    "import numpy as np\n",
    "import warnings\n",
    "import matplotlib.pyplot as plt\n",
    "import seaborn as sns\n",
    "from functions import train_val\n",
    "import pickle\n",
    "import random"
   ]
  },
  {
   "cell_type": "markdown",
   "id": "66b23cc9-295c-4ce6-a761-acdbebb23cb5",
   "metadata": {
    "tags": []
   },
   "source": [
    "# Lets create synthetic Car Observations"
   ]
  },
  {
   "cell_type": "code",
   "execution_count": 78,
   "id": "9f0f680b-8bba-496a-b073-635a11d0c2b2",
   "metadata": {
    "tags": []
   },
   "outputs": [],
   "source": [
    "df = pd.read_csv('final_scout_not_dummy.csv')\n",
    "df = df.sample(10000)"
   ]
  },
  {
   "cell_type": "code",
   "execution_count": 79,
   "id": "26a284b4-2103-4f8d-ab54-f7fc09e74b63",
   "metadata": {
    "tags": []
   },
   "outputs": [
    {
     "data": {
      "text/html": [
       "<div>\n",
       "<style scoped>\n",
       "    .dataframe tbody tr th:only-of-type {\n",
       "        vertical-align: middle;\n",
       "    }\n",
       "\n",
       "    .dataframe tbody tr th {\n",
       "        vertical-align: top;\n",
       "    }\n",
       "\n",
       "    .dataframe thead th {\n",
       "        text-align: right;\n",
       "    }\n",
       "</style>\n",
       "<table border=\"1\" class=\"dataframe\">\n",
       "  <thead>\n",
       "    <tr style=\"text-align: right;\">\n",
       "      <th></th>\n",
       "      <th>make_model</th>\n",
       "      <th>body_type</th>\n",
       "      <th>price</th>\n",
       "      <th>vat</th>\n",
       "      <th>km</th>\n",
       "      <th>Type</th>\n",
       "      <th>Fuel</th>\n",
       "      <th>Gears</th>\n",
       "      <th>Comfort_Convenience</th>\n",
       "      <th>Entertainment_Media</th>\n",
       "      <th>Extras</th>\n",
       "      <th>Safety_Security</th>\n",
       "      <th>age</th>\n",
       "      <th>Previous_Owners</th>\n",
       "      <th>hp_kW</th>\n",
       "      <th>Inspection_new</th>\n",
       "      <th>Paint_Type</th>\n",
       "      <th>Upholstery_type</th>\n",
       "      <th>Gearing_Type</th>\n",
       "      <th>Displacement_cc</th>\n",
       "      <th>Weight_kg</th>\n",
       "      <th>Drive_chain</th>\n",
       "      <th>cons_comb</th>\n",
       "    </tr>\n",
       "  </thead>\n",
       "  <tbody>\n",
       "    <tr>\n",
       "      <th>11802</th>\n",
       "      <td>Opel Insignia</td>\n",
       "      <td>Sedans</td>\n",
       "      <td>23716</td>\n",
       "      <td>VAT deductible</td>\n",
       "      <td>37962</td>\n",
       "      <td>New</td>\n",
       "      <td>Diesel</td>\n",
       "      <td>6.0</td>\n",
       "      <td>Air conditioning,Armrest,Cruise control,Electr...</td>\n",
       "      <td>Bluetooth,Hands-free equipment,On-board comput...</td>\n",
       "      <td>Alloy wheels</td>\n",
       "      <td>ABS,Central door lock,Daytime running lights,D...</td>\n",
       "      <td>2</td>\n",
       "      <td>1.0</td>\n",
       "      <td>100.0</td>\n",
       "      <td>0</td>\n",
       "      <td>Metallic</td>\n",
       "      <td>Cloth</td>\n",
       "      <td>Automatic</td>\n",
       "      <td>1598.0</td>\n",
       "      <td>1441.0</td>\n",
       "      <td>front</td>\n",
       "      <td>5.0</td>\n",
       "    </tr>\n",
       "    <tr>\n",
       "      <th>5898</th>\n",
       "      <td>Opel Astra</td>\n",
       "      <td>Station wagon</td>\n",
       "      <td>13990</td>\n",
       "      <td>VAT deductible</td>\n",
       "      <td>45507</td>\n",
       "      <td>Used</td>\n",
       "      <td>Diesel</td>\n",
       "      <td>6.0</td>\n",
       "      <td>Air conditioning,Cruise control,Electrical sid...</td>\n",
       "      <td>Bluetooth,Hands-free equipment,On-board comput...</td>\n",
       "      <td>Roof rack</td>\n",
       "      <td>ABS,Central door lock with remote control,Dayt...</td>\n",
       "      <td>4</td>\n",
       "      <td>1.0</td>\n",
       "      <td>100.0</td>\n",
       "      <td>0</td>\n",
       "      <td>Metallic</td>\n",
       "      <td>Cloth</td>\n",
       "      <td>Automatic</td>\n",
       "      <td>1598.0</td>\n",
       "      <td>1425.0</td>\n",
       "      <td>front</td>\n",
       "      <td>4.5</td>\n",
       "    </tr>\n",
       "    <tr>\n",
       "      <th>9026</th>\n",
       "      <td>Opel Corsa</td>\n",
       "      <td>Sedans</td>\n",
       "      <td>7800</td>\n",
       "      <td>VAT deductible</td>\n",
       "      <td>16983</td>\n",
       "      <td>Used</td>\n",
       "      <td>Benzine</td>\n",
       "      <td>5.0</td>\n",
       "      <td>Air conditioning,Cruise control,Electrical sid...</td>\n",
       "      <td>Bluetooth,CD player,Hands-free equipment,On-bo...</td>\n",
       "      <td>Alloy wheels,Touch screen,Voice Control</td>\n",
       "      <td>ABS,Central door lock with remote control,Driv...</td>\n",
       "      <td>2</td>\n",
       "      <td>1.0</td>\n",
       "      <td>66.0</td>\n",
       "      <td>0</td>\n",
       "      <td>Metallic</td>\n",
       "      <td>Cloth</td>\n",
       "      <td>Manual</td>\n",
       "      <td>1398.0</td>\n",
       "      <td>1163.0</td>\n",
       "      <td>front</td>\n",
       "      <td>5.1</td>\n",
       "    </tr>\n",
       "  </tbody>\n",
       "</table>\n",
       "</div>"
      ],
      "text/plain": [
       "          make_model      body_type  price             vat     km  Type  \\\n",
       "11802  Opel Insignia         Sedans  23716  VAT deductible  37962   New   \n",
       "5898      Opel Astra  Station wagon  13990  VAT deductible  45507  Used   \n",
       "9026      Opel Corsa         Sedans   7800  VAT deductible  16983  Used   \n",
       "\n",
       "          Fuel  Gears                                Comfort_Convenience  \\\n",
       "11802   Diesel    6.0  Air conditioning,Armrest,Cruise control,Electr...   \n",
       "5898    Diesel    6.0  Air conditioning,Cruise control,Electrical sid...   \n",
       "9026   Benzine    5.0  Air conditioning,Cruise control,Electrical sid...   \n",
       "\n",
       "                                     Entertainment_Media  \\\n",
       "11802  Bluetooth,Hands-free equipment,On-board comput...   \n",
       "5898   Bluetooth,Hands-free equipment,On-board comput...   \n",
       "9026   Bluetooth,CD player,Hands-free equipment,On-bo...   \n",
       "\n",
       "                                        Extras  \\\n",
       "11802                             Alloy wheels   \n",
       "5898                                 Roof rack   \n",
       "9026   Alloy wheels,Touch screen,Voice Control   \n",
       "\n",
       "                                         Safety_Security  age  \\\n",
       "11802  ABS,Central door lock,Daytime running lights,D...    2   \n",
       "5898   ABS,Central door lock with remote control,Dayt...    4   \n",
       "9026   ABS,Central door lock with remote control,Driv...    2   \n",
       "\n",
       "       Previous_Owners  hp_kW  Inspection_new Paint_Type Upholstery_type  \\\n",
       "11802              1.0  100.0               0   Metallic           Cloth   \n",
       "5898               1.0  100.0               0   Metallic           Cloth   \n",
       "9026               1.0   66.0               0   Metallic           Cloth   \n",
       "\n",
       "      Gearing_Type  Displacement_cc  Weight_kg Drive_chain  cons_comb  \n",
       "11802    Automatic           1598.0     1441.0       front        5.0  \n",
       "5898     Automatic           1598.0     1425.0       front        4.5  \n",
       "9026        Manual           1398.0     1163.0       front        5.1  "
      ]
     },
     "execution_count": 79,
     "metadata": {},
     "output_type": "execute_result"
    }
   ],
   "source": [
    "random.seed=42\n",
    "def generate_random_km():\n",
    "    return random.randint(10000, 50000)\n",
    "def generate_random_age():\n",
    "    return random.randint(0, 4)\n",
    "\n",
    "df['km'] = df['km'].apply(lambda x: generate_random_km())\n",
    "df['age'] = df['age'].apply(lambda x: generate_random_age())\n",
    "\n",
    "df.head(3)"
   ]
  },
  {
   "cell_type": "markdown",
   "id": "aace6911-aba5-4100-bfa7-1d9ff29efbe0",
   "metadata": {
    "tags": []
   },
   "source": [
    "# Applying data Transformations"
   ]
  },
  {
   "cell_type": "code",
   "execution_count": 80,
   "id": "8343ad59-5a0a-4608-a3ca-17b044c87ca6",
   "metadata": {
    "tags": []
   },
   "outputs": [
    {
     "name": "stdout",
     "output_type": "stream",
     "text": [
      "(10000, 43)\n",
      "(10000,)\n"
     ]
    }
   ],
   "source": [
    "categorical_features = df.select_dtypes(include='object').columns\n",
    "numerical_features = df.select_dtypes(include='number').columns\n",
    "\n",
    "def convert_specs_to_scores(df, cols, bonus_points_dict):\n",
    "    \n",
    "    for col in cols:\n",
    "        df[col] = df[col].str.split(',').apply(lambda specs: sum(2 if spec.strip() in bonus_points_dict.get(col, []) else 1 for spec in specs))\n",
    "    return df\n",
    "\n",
    "cat_columns_convert = ['Comfort_Convenience', 'Entertainment_Media', 'Safety_Security', 'Extras']\n",
    "\n",
    "bonus_points_dict = {\n",
    "    'Comfort_Convenience': ['Auxiliary heating', 'Heads-up display', 'Heated steering wheel', 'Massage seats', 'Parking assist system camera', 'Seat ventilation'  ],\n",
    "    'Entertainment_Media': ['On-board computer', 'Sound system', 'Television'],\n",
    "    'Safety_Security'    : ['Adaptive Cruise Control', 'Adaptive headlights', 'Lane departure warning system', 'Night view assist', 'Traffic sign recognition', 'Xenon headlights' ],\n",
    "    'Extras'             : []\n",
    "}\n",
    "\n",
    "df = convert_specs_to_scores(df, cat_columns_convert, bonus_points_dict)\n",
    "\n",
    "X = df.drop(columns=['price'])\n",
    "y = df.price\n",
    "\n",
    "categorical_features = df.select_dtypes(include=['object', 'category']).columns\n",
    "X_encoded = pd.get_dummies(X, columns=categorical_features, prefix=categorical_features, drop_first=True)\n",
    "print(X_encoded.shape)\n",
    "print(y.shape)"
   ]
  },
  {
   "cell_type": "markdown",
   "id": "593d2fc2-de8f-4e6d-9408-1a781f92d98a",
   "metadata": {},
   "source": [
    "# Loading the model and scaler"
   ]
  },
  {
   "cell_type": "code",
   "execution_count": 81,
   "id": "2ae1ac0f-5951-4a50-98fd-e41f95bbeaa6",
   "metadata": {
    "tags": []
   },
   "outputs": [],
   "source": [
    "scaler = pickle.load(open('scaler_scouting', 'rb'))\n",
    "model_loaded = pickle.load(open('final_model_scouting', 'rb'))"
   ]
  },
  {
   "cell_type": "markdown",
   "id": "3e01edf9-fa1b-4cc9-9c80-3326d90264cc",
   "metadata": {},
   "source": [
    "# Making the Predictions"
   ]
  },
  {
   "cell_type": "code",
   "execution_count": 85,
   "id": "56944163-b6ee-4cf4-9ab6-aa571c71ec10",
   "metadata": {
    "tags": []
   },
   "outputs": [
    {
     "data": {
      "text/plain": [
       "array([18757.60044794, 12021.02171121,  9614.60639009, ...,\n",
       "       21856.86434292, 22852.25400501, 16153.67107586])"
      ]
     },
     "execution_count": 85,
     "metadata": {},
     "output_type": "execute_result"
    }
   ],
   "source": [
    "X_scaled = scaler.transform(X_encoded)\n",
    "\n",
    "y_pred = model_loaded.predict(X_scaled)\n",
    "y_pred_final = np.exp(y_pred) \n",
    "y_pred_final"
   ]
  },
  {
   "cell_type": "code",
   "execution_count": 91,
   "id": "4f9dc7b7-6670-4d11-86b3-bc9782b08784",
   "metadata": {
    "tags": []
   },
   "outputs": [],
   "source": [
    "from sklearn.metrics import r2_score, mean_squared_error"
   ]
  },
  {
   "cell_type": "code",
   "execution_count": 92,
   "id": "52d265c9-2ff0-48a9-84a1-87f22de00550",
   "metadata": {
    "tags": []
   },
   "outputs": [
    {
     "data": {
      "text/plain": [
       "0.540289159394022"
      ]
     },
     "execution_count": 92,
     "metadata": {},
     "output_type": "execute_result"
    }
   ],
   "source": [
    "r2_score(y, y_pred_final)"
   ]
  },
  {
   "cell_type": "code",
   "execution_count": 93,
   "id": "9b2117e9-6d82-42a8-a1c4-583fcdd11935",
   "metadata": {
    "tags": []
   },
   "outputs": [
    {
     "data": {
      "text/plain": [
       "4994.555038741074"
      ]
     },
     "execution_count": 93,
     "metadata": {},
     "output_type": "execute_result"
    }
   ],
   "source": [
    "mse = mean_squared_error(y, y_pred_final)\n",
    "rmse = np.sqrt(mse)\n",
    "rmse"
   ]
  },
  {
   "cell_type": "markdown",
   "id": "6064b2aa-8901-4ac5-8883-9bd2d89a54d2",
   "metadata": {},
   "source": [
    "__Tabi burada amac sadece modeli deploy edip sonra tahmin etmeyi basarabilmekti, urettigimiz sentetik veriler cok alakasiz oldugu ucun skorlar da cok dusuk cikti normal olarak__"
   ]
  },
  {
   "cell_type": "code",
   "execution_count": null,
   "id": "6d16d685-066e-4fd9-91ac-31a3c82c723b",
   "metadata": {},
   "outputs": [],
   "source": []
  }
 ],
 "metadata": {
  "kernelspec": {
   "display_name": "Python 3 (ipykernel)",
   "language": "python",
   "name": "python3"
  },
  "language_info": {
   "codemirror_mode": {
    "name": "ipython",
    "version": 3
   },
   "file_extension": ".py",
   "mimetype": "text/x-python",
   "name": "python",
   "nbconvert_exporter": "python",
   "pygments_lexer": "ipython3",
   "version": "3.10.8"
  }
 },
 "nbformat": 4,
 "nbformat_minor": 5
}
